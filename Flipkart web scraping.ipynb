{
 "cells": [
  {
   "cell_type": "markdown",
   "id": "4644e64b",
   "metadata": {},
   "source": [
    "# Welcome to web scraping series \n",
    "## Example 3 Flipkart books sales web scraping"
   ]
  },
  {
   "cell_type": "code",
   "execution_count": 1,
   "id": "cd2c32cd",
   "metadata": {},
   "outputs": [],
   "source": [
    "from bs4 import BeautifulSoup\n",
    "import requests\n",
    "from csv import writer\n"
   ]
  },
  {
   "cell_type": "code",
   "execution_count": 2,
   "id": "838feda6",
   "metadata": {},
   "outputs": [],
   "source": [
    "url= \"https://www.flipkart.com/search?q=books&otracker=search&otracker1=search&marketplace=FLIPKART&as-show=on&as=off\"\n",
    "page = requests.get(url)\n",
    "soup = BeautifulSoup(page.content, 'html.parser')\n",
    "# print(soup)\n",
    "books = soup.find_all('div', class_=\"_4ddWXP\")\n",
    "# print(lists[0])\n",
    "# print(len(books))"
   ]
  },
  {
   "cell_type": "code",
   "execution_count": 3,
   "id": "107bdea5",
   "metadata": {},
   "outputs": [
    {
     "name": "stdout",
     "output_type": "stream",
     "text": [
      "SSC JE Mechanical Engineering Previous Year Objective T... ₹725\n",
      "SSC JE Civil Engineering Previous Year Objective Topic ... ₹720\n",
      "Khargadham Magic Practice Copybook For Kids - Handwriti... ₹199\n",
      "Ncert Biology Textbook For Class 11 ₹175\n",
      "Student ATLAS Useful For All Competitive Exam ₹175\n",
      "Vastunist Samany Vigyan 15000+ By Khan Sir ₹199\n",
      "Railway General Science + GK 11000+Question (Previous Q... ₹159\n",
      "Story Books Set of 10 in English with 101 Moral Stories... ₹212\n",
      "New Ncert Biology Class 11 And 12 Set Of Book ) Help Fu... ₹300\n",
      "NCERT Biology Tax Book For Class 11th & 12th ₹299\n",
      "A Complete Book Of Data Interpretation & Analysis (Thir... ₹439\n",
      "SSC JE Civil 2022 Complete Books Kit (English Printed E... ₹1,259\n",
      "Number Tracing Book For Preschoolers With Pen, Magic Ca... ₹200\n",
      "Student Atlas By Khan Sir, Hindi ₹175\n",
      "NCERT Class 11th And 12th Chemistry Part 1 And 2 (Combo... ₹427\n",
      "Science NCERT Textbook For Class 10 (Paperpack, NCERT ₹169\n",
      "NCERT Geography Books Set Of Class -6 To 10 For UPSC Ex... ₹280\n",
      "Delhi Police Head Constable 2022 Complete Books Kit (En... ₹1,649\n",
      "Basics Of Stock Market | Complete Guide For Stock Begin... ₹273\n",
      "NCERT BOOKS NCERT Physics Textbook Part - 1 And 2 ,Text... ₹440\n",
      "Supreme Court (SCI) Junior Court Assistant 2022 Complet... ₹1,649\n",
      "Blossom Colouring Books For 3 To 7 Year Old Kids | Cray... ₹329\n",
      "A Place Called Home (Printed Signed Copies) ₹192\n",
      "Ancient India By RS Sharma, Medieval India By Satish Ch... ₹239\n",
      "MATHEMATICS FOR CLASS X (10th) (Paperback, NCERT) ₹150\n",
      "My First Picture Library Box Of 10 Board Books (Pre-Sch... ₹399\n",
      "Ncert Science Book 12th Class 1. Physics Textbook Part1... ₹442\n",
      "Blossom Jumbo Creative Colouring Book For Kids | 3 To 5... ₹153\n",
      "Social Science Class 9 Ncert (History, Civics, Geograph... ₹270\n",
      "NCERT Science Books Set For Class 9 And 10 (English Med... ₹299\n",
      "School Atlas from Inikao - School Student World Atlas M... ₹175\n",
      "Civil Professional Knowledge Book (English Medium) ₹575\n",
      "My First 1000 Words Book : Early Learning Book For Kids... ₹425\n",
      "NCERT Science Book Set (PCB) 1.Physics Textbook Part1 A... ₹575\n",
      "Class 11th Ncert Physics And Chemistry Combo Book (Set ... ₹423\n",
      "NCERT Textbook Mathematics Textbook Part 1 & Part 2 Cla... ₹343\n",
      "Ncert Science Text Book For Class - X ₹160\n",
      "Almora Urban Co-Operative Bank Clerk 2022 Complete Book... ₹1,449\n",
      "Science NCERT 10th Class Textbook In Hindi Medium ₹180\n",
      "Shri Ram Charitmanas - Ramayan By Swami Tulsidas Ji ( H... ₹425\n"
     ]
    }
   ],
   "source": [
    "for book in books:\n",
    "        title = book.find('a', class_=\"s1Q9rs\").text.replace('\\n', '')\n",
    "        price = book.find('div', class_=\"_30jeq3\").text.replace('\\n', '')\n",
    "        print(title,price)"
   ]
  },
  {
   "cell_type": "code",
   "execution_count": 4,
   "id": "cd2c2143",
   "metadata": {},
   "outputs": [
    {
     "ename": "PermissionError",
     "evalue": "[Errno 13] Permission denied: 'books.csv'",
     "output_type": "error",
     "traceback": [
      "\u001b[1;31m---------------------------------------------------------------------------\u001b[0m",
      "\u001b[1;31mPermissionError\u001b[0m                           Traceback (most recent call last)",
      "\u001b[1;32m<ipython-input-4-dc3ddfda8b73>\u001b[0m in \u001b[0;36m<module>\u001b[1;34m\u001b[0m\n\u001b[1;32m----> 1\u001b[1;33m \u001b[1;32mwith\u001b[0m \u001b[0mopen\u001b[0m\u001b[1;33m(\u001b[0m\u001b[1;34m'books.csv'\u001b[0m\u001b[1;33m,\u001b[0m \u001b[1;34m'w'\u001b[0m\u001b[1;33m,\u001b[0m \u001b[0mencoding\u001b[0m\u001b[1;33m=\u001b[0m\u001b[1;34m'utf8'\u001b[0m\u001b[1;33m,\u001b[0m \u001b[0mnewline\u001b[0m\u001b[1;33m=\u001b[0m\u001b[1;34m''\u001b[0m\u001b[1;33m)\u001b[0m \u001b[1;32mas\u001b[0m \u001b[0mf\u001b[0m\u001b[1;33m:\u001b[0m\u001b[1;33m\u001b[0m\u001b[1;33m\u001b[0m\u001b[0m\n\u001b[0m\u001b[0;32m      2\u001b[0m     \u001b[0mthewriter\u001b[0m \u001b[1;33m=\u001b[0m \u001b[0mwriter\u001b[0m\u001b[1;33m(\u001b[0m\u001b[0mf\u001b[0m\u001b[1;33m)\u001b[0m\u001b[1;33m\u001b[0m\u001b[1;33m\u001b[0m\u001b[0m\n\u001b[0;32m      3\u001b[0m     \u001b[0mheader\u001b[0m \u001b[1;33m=\u001b[0m \u001b[1;33m[\u001b[0m\u001b[1;34m'Title_book'\u001b[0m\u001b[1;33m,\u001b[0m \u001b[1;34m'Price'\u001b[0m\u001b[1;33m]\u001b[0m\u001b[1;33m\u001b[0m\u001b[1;33m\u001b[0m\u001b[0m\n\u001b[0;32m      4\u001b[0m     \u001b[0mthewriter\u001b[0m\u001b[1;33m.\u001b[0m\u001b[0mwriterow\u001b[0m\u001b[1;33m(\u001b[0m\u001b[0mheader\u001b[0m\u001b[1;33m)\u001b[0m\u001b[1;33m\u001b[0m\u001b[1;33m\u001b[0m\u001b[0m\n\u001b[0;32m      5\u001b[0m \u001b[1;33m\u001b[0m\u001b[0m\n",
      "\u001b[1;31mPermissionError\u001b[0m: [Errno 13] Permission denied: 'books.csv'"
     ]
    }
   ],
   "source": [
    "with open('books.csv', 'w', encoding='utf8', newline='') as f:\n",
    "    thewriter = writer(f)\n",
    "    header = ['Title_book', 'Price']\n",
    "    thewriter.writerow(header)\n",
    "\n",
    "    for book in books:\n",
    "        title = book.find('a', class_=\"s1Q9rs\").text.replace('\\n', '')\n",
    "        price = book.find('div', class_=\"_30jeq3\").text.replace('\\n', '')\n",
    "        info = [title,price]\n",
    "        thewriter.writerow(info)"
   ]
  },
  {
   "cell_type": "markdown",
   "id": "b76ff742",
   "metadata": {},
   "source": [
    "### Important note\n",
    "note if nonetype error arises make sure the tag and class names are correct or not .\n",
    "To do that simple go through url press inspect and go through correcponding field and copy the class and tag."
   ]
  },
  {
   "cell_type": "markdown",
   "id": "5174ee29",
   "metadata": {},
   "source": [
    "# Thank You"
   ]
  }
 ],
 "metadata": {
  "kernelspec": {
   "display_name": "Python 3",
   "language": "python",
   "name": "python3"
  },
  "language_info": {
   "codemirror_mode": {
    "name": "ipython",
    "version": 3
   },
   "file_extension": ".py",
   "mimetype": "text/x-python",
   "name": "python",
   "nbconvert_exporter": "python",
   "pygments_lexer": "ipython3",
   "version": "3.8.8"
  }
 },
 "nbformat": 4,
 "nbformat_minor": 5
}
