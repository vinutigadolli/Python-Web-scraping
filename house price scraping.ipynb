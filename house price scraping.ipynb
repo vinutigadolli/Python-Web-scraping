{
 "cells": [
  {
   "cell_type": "markdown",
   "id": "4644e64b",
   "metadata": {},
   "source": [
    "# Welcome to web scraping series \n",
    "## Example 1 house price web scraping"
   ]
  },
  {
   "cell_type": "code",
   "execution_count": 9,
   "id": "cd2c32cd",
   "metadata": {},
   "outputs": [],
   "source": [
    "from bs4 import BeautifulSoup\n",
    "import requests\n",
    "from csv import writer\n"
   ]
  },
  {
   "cell_type": "code",
   "execution_count": 10,
   "id": "ba5d51e4",
   "metadata": {},
   "outputs": [],
   "source": [
    "\n",
    "url= \"https://www.pararius.com/apartments/amsterdam?ac=1\"\n",
    "page = requests.get(url)\n",
    "\n",
    "soup = BeautifulSoup(page.content, 'html.parser')\n",
    "lists = soup.find_all('section', class_=\"listing-search-item\")"
   ]
  },
  {
   "cell_type": "code",
   "execution_count": 11,
   "id": "cd2c2143",
   "metadata": {},
   "outputs": [],
   "source": [
    "with open('housing.csv', 'w', encoding='utf8', newline='') as f:\n",
    "    thewriter = writer(f)\n",
    "    header = ['Title', 'Location', 'Price', 'Area']\n",
    "    thewriter.writerow(header)\n",
    "\n",
    "    for list in lists:\n",
    "        title = list.find('a', class_=\"listing-search-item__link--title\").text.replace('\\n', '')\n",
    "        location = list.find('div', class_=\"listing-search-item__sub-title\").text.replace('\\n', '')\n",
    "        price = list.find('div', class_=\"listing-search-item__price\").text.replace('\\n', '')\n",
    "        area = list.find('li', class_=\"illustrated-features__item illustrated-features__item--surface-area\").text.replace('\\n', '')\n",
    "        \n",
    "        info = [title, location, price, area]\n",
    "        thewriter.writerow(info)"
   ]
  },
  {
   "cell_type": "markdown",
   "id": "b76ff742",
   "metadata": {},
   "source": [
    "### Important note\n",
    "note if nonetype error arises make sure the tag and class names are correct or not .\n",
    "To do that simple go through url press inspect and go through correcponding field and copy the class and tag."
   ]
  },
  {
   "cell_type": "markdown",
   "id": "5174ee29",
   "metadata": {},
   "source": [
    "# Thank You"
   ]
  }
 ],
 "metadata": {
  "kernelspec": {
   "display_name": "Python 3",
   "language": "python",
   "name": "python3"
  },
  "language_info": {
   "codemirror_mode": {
    "name": "ipython",
    "version": 3
   },
   "file_extension": ".py",
   "mimetype": "text/x-python",
   "name": "python",
   "nbconvert_exporter": "python",
   "pygments_lexer": "ipython3",
   "version": "3.8.8"
  }
 },
 "nbformat": 4,
 "nbformat_minor": 5
}
