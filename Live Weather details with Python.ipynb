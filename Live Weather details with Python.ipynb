{
 "cells": [
  {
   "cell_type": "markdown",
   "id": "3b884451",
   "metadata": {},
   "source": [
    "# Live Weather details with Python"
   ]
  },
  {
   "cell_type": "code",
   "execution_count": 1,
   "id": "1d004a5a",
   "metadata": {},
   "outputs": [],
   "source": [
    "import requests\n",
    "from bs4 import BeautifulSoup"
   ]
  },
  {
   "cell_type": "code",
   "execution_count": 2,
   "id": "613c6884",
   "metadata": {},
   "outputs": [],
   "source": [
    "import pandas as pd "
   ]
  },
  {
   "cell_type": "code",
   "execution_count": null,
   "id": "39896090",
   "metadata": {},
   "outputs": [],
   "source": [
    "# Go to website > inspect > network > select all in tick box > ctrl +r > take down headers info"
   ]
  },
  {
   "cell_type": "code",
   "execution_count": 3,
   "id": "d9a1e45f",
   "metadata": {},
   "outputs": [],
   "source": [
    "headers = {'user-agent': 'Mozilla/5.0 (Windows NT 10.0; Win64; x64) AppleWebKit/537.36 \\\n",
    "(KHTML, like Gecko) Chrome/105.0.0.0 Safari/537.36'}"
   ]
  },
  {
   "cell_type": "code",
   "execution_count": 4,
   "id": "c0492d31",
   "metadata": {},
   "outputs": [],
   "source": [
    "city = 'belagavi'"
   ]
  },
  {
   "cell_type": "code",
   "execution_count": 5,
   "id": "f45c67cc",
   "metadata": {},
   "outputs": [],
   "source": [
    "# get the response in the form of html\n",
    "response = requests.get(f'https://www.google.com/search?q=google+{city}+weather&oq=google+{city}+weather&aqs=\\\n",
    "chrome..69i57j69i64.5077j0j7&sourceid=chrome&ie=UTF-8',headers=headers)"
   ]
  },
  {
   "cell_type": "code",
   "execution_count": null,
   "id": "2cdec334",
   "metadata": {},
   "outputs": [],
   "source": [
    "# For more on status code visit https://en.wikipedia.org/wiki/List_of_HTTP_status_codes"
   ]
  },
  {
   "cell_type": "code",
   "execution_count": 6,
   "id": "cc2f7c63",
   "metadata": {},
   "outputs": [
    {
     "data": {
      "text/plain": [
       "200"
      ]
     },
     "execution_count": 6,
     "metadata": {},
     "output_type": "execute_result"
    }
   ],
   "source": [
    "response.status_code"
   ]
  },
  {
   "cell_type": "code",
   "execution_count": 7,
   "id": "9153e002",
   "metadata": {},
   "outputs": [],
   "source": [
    "# parse data from the html into a beautifulsoup object\n",
    "soup = BeautifulSoup(response.text,\"html.parser\")\n",
    "location = soup.select(\"#wob_loc\")[0].getText().strip()\n",
    "time = soup.select(\"#wob_dts\")[0].getText().strip()\n",
    "info = soup.select(\"#wob_dc\")[0].getText().strip()\n",
    "weather = soup.select(\"#wob_tm\")[0].getText().strip()"
   ]
  },
  {
   "cell_type": "code",
   "execution_count": 8,
   "id": "88381624",
   "metadata": {},
   "outputs": [
    {
     "name": "stdout",
     "output_type": "stream",
     "text": [
      "Belagavi, Karnataka\n",
      "Saturday, 3:00 pm\n",
      "Mostly cloudy\n",
      "26 degree celcius\n"
     ]
    }
   ],
   "source": [
    "print(location)\n",
    "print(time)\n",
    "print(info)\n",
    "print(weather + ' degree celcius')"
   ]
  },
  {
   "cell_type": "markdown",
   "id": "91031ae7",
   "metadata": {},
   "source": [
    "## Let's Create a function to get the weather for all the city's of karnataka"
   ]
  },
  {
   "cell_type": "code",
   "execution_count": 9,
   "id": "874eea27",
   "metadata": {},
   "outputs": [],
   "source": [
    "w_location = []\n",
    "w_time = []\n",
    "w_info = []\n",
    "weath = []"
   ]
  },
  {
   "cell_type": "code",
   "execution_count": 10,
   "id": "152eba72",
   "metadata": {},
   "outputs": [],
   "source": [
    "def weather_karnataka(city):\n",
    "    response = requests.get(f'https://www.google.com/search?q=google+{city}+weather&oq=google+{city}+weather&aqs=\\\n",
    "    chrome..69i57j69i64.5077j0j7&sourceid=chrome&ie=UTF-8',headers=headers)\n",
    "\n",
    "    print(f\"Status of request for {city}:\",response.status_code)\n",
    "    \n",
    "    soup = BeautifulSoup(response.text,\"html.parser\")\n",
    "    location = soup.select(\"#wob_loc\")[0].getText().strip()\n",
    "    time = soup.select(\"#wob_dts\")[0].getText().strip()\n",
    "    info = soup.select(\"#wob_dc\")[0].getText().strip()\n",
    "    weather = soup.select(\"#wob_tm\")[0].getText().strip()\n",
    "    \n",
    "    w_location.append(location)\n",
    "    w_time.append(time)\n",
    "    w_info.append(info)\n",
    "    weath.append(weather)\n",
    "    "
   ]
  },
  {
   "cell_type": "markdown",
   "id": "06aaf825",
   "metadata": {},
   "source": [
    "### Let's Scrape all city Data of Karnataka from wikipedia"
   ]
  },
  {
   "cell_type": "code",
   "execution_count": 11,
   "id": "6bb476b3",
   "metadata": {},
   "outputs": [
    {
     "name": "stdout",
     "output_type": "stream",
     "text": [
      "200\n"
     ]
    }
   ],
   "source": [
    "# get the response in the form of html\n",
    "url=\"https://en.wikipedia.org/wiki/List_of_cities_in_Karnataka_by_population\"\n",
    "table_class=\"wikitable sortable jquery-tablesorter\"\n",
    "response=requests.get(url)\n",
    "print(response.status_code)"
   ]
  },
  {
   "cell_type": "code",
   "execution_count": 12,
   "id": "50fa68f9",
   "metadata": {},
   "outputs": [],
   "source": [
    "# parse data from the html into a beautifulsoup object\n",
    "soup = BeautifulSoup(response.text, 'html.parser')\n",
    "indiatable=soup.find('table',{'class':\"wikitable\"})"
   ]
  },
  {
   "cell_type": "code",
   "execution_count": 13,
   "id": "7bca8b1a",
   "metadata": {},
   "outputs": [
    {
     "data": {
      "text/html": [
       "<div>\n",
       "<style scoped>\n",
       "    .dataframe tbody tr th:only-of-type {\n",
       "        vertical-align: middle;\n",
       "    }\n",
       "\n",
       "    .dataframe tbody tr th {\n",
       "        vertical-align: top;\n",
       "    }\n",
       "\n",
       "    .dataframe thead th {\n",
       "        text-align: right;\n",
       "    }\n",
       "</style>\n",
       "<table border=\"1\" class=\"dataframe\">\n",
       "  <thead>\n",
       "    <tr style=\"text-align: right;\">\n",
       "      <th></th>\n",
       "      <th>Rank(2011)</th>\n",
       "      <th>City</th>\n",
       "      <th>District</th>\n",
       "      <th>Population2011</th>\n",
       "      <th>Population2001</th>\n",
       "      <th>Population1991</th>\n",
       "    </tr>\n",
       "  </thead>\n",
       "  <tbody>\n",
       "    <tr>\n",
       "      <th>0</th>\n",
       "      <td>1</td>\n",
       "      <td>Bangalore</td>\n",
       "      <td>Bangalore Urban</td>\n",
       "      <td>8495492</td>\n",
       "      <td>5688985</td>\n",
       "      <td>3302296</td>\n",
       "    </tr>\n",
       "    <tr>\n",
       "      <th>1</th>\n",
       "      <td>2</td>\n",
       "      <td>Hubli-Dharwad</td>\n",
       "      <td>Dharwad</td>\n",
       "      <td>943788</td>\n",
       "      <td>786195</td>\n",
       "      <td>648298</td>\n",
       "    </tr>\n",
       "    <tr>\n",
       "      <th>2</th>\n",
       "      <td>3</td>\n",
       "      <td>Mysore</td>\n",
       "      <td>Mysore</td>\n",
       "      <td>920550</td>\n",
       "      <td>762408</td>\n",
       "      <td>606755</td>\n",
       "    </tr>\n",
       "    <tr>\n",
       "      <th>3</th>\n",
       "      <td>4</td>\n",
       "      <td>Kalaburagi</td>\n",
       "      <td>Kalaburagi</td>\n",
       "      <td>543147</td>\n",
       "      <td>430265</td>\n",
       "      <td>304099</td>\n",
       "    </tr>\n",
       "    <tr>\n",
       "      <th>4</th>\n",
       "      <td>5</td>\n",
       "      <td>Mangalore</td>\n",
       "      <td>Dakshina Kannada</td>\n",
       "      <td>499487</td>\n",
       "      <td>411327</td>\n",
       "      <td>273304</td>\n",
       "    </tr>\n",
       "  </tbody>\n",
       "</table>\n",
       "</div>"
      ],
      "text/plain": [
       "   Rank(2011)           City          District  Population2011  \\\n",
       "0           1      Bangalore   Bangalore Urban         8495492   \n",
       "1           2  Hubli-Dharwad           Dharwad          943788   \n",
       "2           3         Mysore            Mysore          920550   \n",
       "3           4     Kalaburagi        Kalaburagi          543147   \n",
       "4           5      Mangalore  Dakshina Kannada          499487   \n",
       "\n",
       "   Population2001  Population1991  \n",
       "0         5688985         3302296  \n",
       "1          786195          648298  \n",
       "2          762408          606755  \n",
       "3          430265          304099  \n",
       "4          411327          273304  "
      ]
     },
     "execution_count": 13,
     "metadata": {},
     "output_type": "execute_result"
    }
   ],
   "source": [
    "df=pd.read_html(str(indiatable))\n",
    "# convert list to dataframe\n",
    "df=pd.DataFrame(df[0])\n",
    "df.head()"
   ]
  },
  {
   "cell_type": "code",
   "execution_count": 14,
   "id": "b82b9d75",
   "metadata": {},
   "outputs": [
    {
     "name": "stdout",
     "output_type": "stream",
     "text": [
      "            City          District  Population2011\n",
      "0      Bangalore   Bangalore Urban         8495492\n",
      "1  Hubli-Dharwad           Dharwad          943788\n",
      "2         Mysore            Mysore          920550\n",
      "3     Kalaburagi        Kalaburagi          543147\n",
      "4      Mangalore  Dakshina Kannada          499487\n"
     ]
    }
   ],
   "source": [
    "# drop the unwanted columns\n",
    "data = df.drop([\"Rank(2011)\", \"Population2001\",\"Population1991\"], axis=1)\n",
    "print(data.head())"
   ]
  },
  {
   "cell_type": "code",
   "execution_count": 15,
   "id": "28cf5e15",
   "metadata": {},
   "outputs": [],
   "source": [
    "# Wiki Data"
   ]
  },
  {
   "cell_type": "code",
   "execution_count": 16,
   "id": "9192b016",
   "metadata": {},
   "outputs": [
    {
     "data": {
      "text/plain": [
       "(26, 3)"
      ]
     },
     "execution_count": 16,
     "metadata": {},
     "output_type": "execute_result"
    }
   ],
   "source": [
    "data.shape"
   ]
  },
  {
   "cell_type": "code",
   "execution_count": 17,
   "id": "075b3d4a",
   "metadata": {},
   "outputs": [
    {
     "name": "stdout",
     "output_type": "stream",
     "text": [
      "Status of request for Bangalore: 200\n",
      "Status of request for Hubli-Dharwad: 200\n",
      "Status of request for Mysore: 200\n",
      "Status of request for Kalaburagi: 200\n",
      "Status of request for Mangalore: 200\n",
      "Status of request for Belgaum: 200\n",
      "Status of request for Davanagere: 200\n",
      "Status of request for Bellary: 200\n",
      "Status of request for Vijayapura: 200\n",
      "Status of request for Shimoga: 200\n",
      "Status of request for Tumkur: 200\n",
      "Status of request for Raichur: 200\n",
      "Status of request for Bidar: 200\n",
      "Status of request for Udupi: 200\n",
      "Status of request for Hospet: 200\n",
      "Status of request for Gadag-Betageri: 200\n",
      "Status of request for Robertsonpet: 200\n",
      "Status of request for Hassan: 200\n",
      "Status of request for Bhadravati: 200\n",
      "Status of request for Chitradurga: 200\n",
      "Status of request for Kolar: 200\n",
      "Status of request for Mandya: 200\n",
      "Status of request for Chikmagalur: 200\n",
      "Status of request for Gangavati: 200\n",
      "Status of request for Bagalkot: 200\n",
      "Status of request for Ranebennuru: 200\n"
     ]
    }
   ],
   "source": [
    "for city in df['City']:\n",
    "    try:\n",
    "        weather_karnataka(city)\n",
    "    except Exception as t:\n",
    "        print(\"Error occured :\",t)"
   ]
  },
  {
   "cell_type": "code",
   "execution_count": 18,
   "id": "602bec5b",
   "metadata": {},
   "outputs": [],
   "source": [
    "#Let's create df for weather info"
   ]
  },
  {
   "cell_type": "code",
   "execution_count": 19,
   "id": "2352c59c",
   "metadata": {},
   "outputs": [
    {
     "data": {
      "text/plain": [
       "(26, 3)"
      ]
     },
     "execution_count": 19,
     "metadata": {},
     "output_type": "execute_result"
    }
   ],
   "source": [
    "df_weather = pd.DataFrame({\n",
    "       'Time':w_time,\n",
    "        'Info':w_info,\n",
    "        'Weather':weath})\n",
    "df_weather.shape"
   ]
  },
  {
   "cell_type": "code",
   "execution_count": 20,
   "id": "9fa998b0",
   "metadata": {},
   "outputs": [
    {
     "data": {
      "text/html": [
       "<div>\n",
       "<style scoped>\n",
       "    .dataframe tbody tr th:only-of-type {\n",
       "        vertical-align: middle;\n",
       "    }\n",
       "\n",
       "    .dataframe tbody tr th {\n",
       "        vertical-align: top;\n",
       "    }\n",
       "\n",
       "    .dataframe thead th {\n",
       "        text-align: right;\n",
       "    }\n",
       "</style>\n",
       "<table border=\"1\" class=\"dataframe\">\n",
       "  <thead>\n",
       "    <tr style=\"text-align: right;\">\n",
       "      <th></th>\n",
       "      <th>Time</th>\n",
       "      <th>Info</th>\n",
       "      <th>Weather</th>\n",
       "    </tr>\n",
       "  </thead>\n",
       "  <tbody>\n",
       "    <tr>\n",
       "      <th>0</th>\n",
       "      <td>Saturday, 3:00 pm</td>\n",
       "      <td>Mostly cloudy</td>\n",
       "      <td>29</td>\n",
       "    </tr>\n",
       "    <tr>\n",
       "      <th>1</th>\n",
       "      <td>Saturday, 3:00 pm</td>\n",
       "      <td>Partly cloudy</td>\n",
       "      <td>27</td>\n",
       "    </tr>\n",
       "    <tr>\n",
       "      <th>2</th>\n",
       "      <td>Saturday, 3:00 pm</td>\n",
       "      <td>Partly cloudy</td>\n",
       "      <td>29</td>\n",
       "    </tr>\n",
       "    <tr>\n",
       "      <th>3</th>\n",
       "      <td>Saturday, 3:00 pm</td>\n",
       "      <td>Partly cloudy</td>\n",
       "      <td>31</td>\n",
       "    </tr>\n",
       "    <tr>\n",
       "      <th>4</th>\n",
       "      <td>Saturday, 3:00 pm</td>\n",
       "      <td>Partly cloudy</td>\n",
       "      <td>29</td>\n",
       "    </tr>\n",
       "  </tbody>\n",
       "</table>\n",
       "</div>"
      ],
      "text/plain": [
       "                Time           Info Weather\n",
       "0  Saturday, 3:00 pm  Mostly cloudy      29\n",
       "1  Saturday, 3:00 pm  Partly cloudy      27\n",
       "2  Saturday, 3:00 pm  Partly cloudy      29\n",
       "3  Saturday, 3:00 pm  Partly cloudy      31\n",
       "4  Saturday, 3:00 pm  Partly cloudy      29"
      ]
     },
     "execution_count": 20,
     "metadata": {},
     "output_type": "execute_result"
    }
   ],
   "source": [
    "df_weather.head()"
   ]
  },
  {
   "cell_type": "code",
   "execution_count": 21,
   "id": "8218106c",
   "metadata": {},
   "outputs": [],
   "source": [
    "### Lets join both the Tables"
   ]
  },
  {
   "cell_type": "code",
   "execution_count": 22,
   "id": "0849c482",
   "metadata": {},
   "outputs": [
    {
     "data": {
      "text/plain": [
       "(26, 6)"
      ]
     },
     "execution_count": 22,
     "metadata": {},
     "output_type": "execute_result"
    }
   ],
   "source": [
    "df_final = pd.concat([data,df_weather],axis=1)\n",
    "df_final.shape"
   ]
  },
  {
   "cell_type": "code",
   "execution_count": 23,
   "id": "7e411b0d",
   "metadata": {},
   "outputs": [
    {
     "data": {
      "text/html": [
       "<div>\n",
       "<style scoped>\n",
       "    .dataframe tbody tr th:only-of-type {\n",
       "        vertical-align: middle;\n",
       "    }\n",
       "\n",
       "    .dataframe tbody tr th {\n",
       "        vertical-align: top;\n",
       "    }\n",
       "\n",
       "    .dataframe thead th {\n",
       "        text-align: right;\n",
       "    }\n",
       "</style>\n",
       "<table border=\"1\" class=\"dataframe\">\n",
       "  <thead>\n",
       "    <tr style=\"text-align: right;\">\n",
       "      <th></th>\n",
       "      <th>City</th>\n",
       "      <th>District</th>\n",
       "      <th>Population2011</th>\n",
       "      <th>Time</th>\n",
       "      <th>Info</th>\n",
       "      <th>Weather</th>\n",
       "    </tr>\n",
       "  </thead>\n",
       "  <tbody>\n",
       "    <tr>\n",
       "      <th>0</th>\n",
       "      <td>Bangalore</td>\n",
       "      <td>Bangalore Urban</td>\n",
       "      <td>8495492</td>\n",
       "      <td>Saturday, 3:00 pm</td>\n",
       "      <td>Mostly cloudy</td>\n",
       "      <td>29</td>\n",
       "    </tr>\n",
       "    <tr>\n",
       "      <th>1</th>\n",
       "      <td>Hubli-Dharwad</td>\n",
       "      <td>Dharwad</td>\n",
       "      <td>943788</td>\n",
       "      <td>Saturday, 3:00 pm</td>\n",
       "      <td>Partly cloudy</td>\n",
       "      <td>27</td>\n",
       "    </tr>\n",
       "    <tr>\n",
       "      <th>2</th>\n",
       "      <td>Mysore</td>\n",
       "      <td>Mysore</td>\n",
       "      <td>920550</td>\n",
       "      <td>Saturday, 3:00 pm</td>\n",
       "      <td>Partly cloudy</td>\n",
       "      <td>29</td>\n",
       "    </tr>\n",
       "    <tr>\n",
       "      <th>3</th>\n",
       "      <td>Kalaburagi</td>\n",
       "      <td>Kalaburagi</td>\n",
       "      <td>543147</td>\n",
       "      <td>Saturday, 3:00 pm</td>\n",
       "      <td>Partly cloudy</td>\n",
       "      <td>31</td>\n",
       "    </tr>\n",
       "    <tr>\n",
       "      <th>4</th>\n",
       "      <td>Mangalore</td>\n",
       "      <td>Dakshina Kannada</td>\n",
       "      <td>499487</td>\n",
       "      <td>Saturday, 3:00 pm</td>\n",
       "      <td>Partly cloudy</td>\n",
       "      <td>29</td>\n",
       "    </tr>\n",
       "  </tbody>\n",
       "</table>\n",
       "</div>"
      ],
      "text/plain": [
       "            City          District  Population2011               Time  \\\n",
       "0      Bangalore   Bangalore Urban         8495492  Saturday, 3:00 pm   \n",
       "1  Hubli-Dharwad           Dharwad          943788  Saturday, 3:00 pm   \n",
       "2         Mysore            Mysore          920550  Saturday, 3:00 pm   \n",
       "3     Kalaburagi        Kalaburagi          543147  Saturday, 3:00 pm   \n",
       "4      Mangalore  Dakshina Kannada          499487  Saturday, 3:00 pm   \n",
       "\n",
       "            Info Weather  \n",
       "0  Mostly cloudy      29  \n",
       "1  Partly cloudy      27  \n",
       "2  Partly cloudy      29  \n",
       "3  Partly cloudy      31  \n",
       "4  Partly cloudy      29  "
      ]
     },
     "execution_count": 23,
     "metadata": {},
     "output_type": "execute_result"
    }
   ],
   "source": [
    "df_final.head()"
   ]
  },
  {
   "cell_type": "code",
   "execution_count": 24,
   "id": "88595e34",
   "metadata": {},
   "outputs": [],
   "source": [
    "df_final.to_csv('Karnataka_city_weather_data.csv')"
   ]
  },
  {
   "cell_type": "markdown",
   "id": "1108d2bc",
   "metadata": {},
   "source": [
    "# Thank You"
   ]
  }
 ],
 "metadata": {
  "kernelspec": {
   "display_name": "Python 3",
   "language": "python",
   "name": "python3"
  },
  "language_info": {
   "codemirror_mode": {
    "name": "ipython",
    "version": 3
   },
   "file_extension": ".py",
   "mimetype": "text/x-python",
   "name": "python",
   "nbconvert_exporter": "python",
   "pygments_lexer": "ipython3",
   "version": "3.8.8"
  }
 },
 "nbformat": 4,
 "nbformat_minor": 5
}
