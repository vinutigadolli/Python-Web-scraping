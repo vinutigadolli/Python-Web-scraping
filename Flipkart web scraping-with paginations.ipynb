{
 "cells": [
  {
   "cell_type": "markdown",
   "id": "4644e64b",
   "metadata": {},
   "source": [
    "# Welcome to web scraping series \n",
    "## Example 4 Flipkart mobile phones web scraping-with paginations "
   ]
  },
  {
   "cell_type": "code",
   "execution_count": 1,
   "id": "cd2c32cd",
   "metadata": {},
   "outputs": [],
   "source": [
    "from bs4 import BeautifulSoup\n",
    "import requests\n",
    "import pandas as pd\n"
   ]
  },
  {
   "cell_type": "code",
   "execution_count": 2,
   "id": "2973b6c9",
   "metadata": {},
   "outputs": [],
   "source": [
    "title_list = []\n",
    "price_list = []"
   ]
  },
  {
   "cell_type": "code",
   "execution_count": 3,
   "id": "838feda6",
   "metadata": {},
   "outputs": [],
   "source": [
    "page_num = 5\n",
    "for i in range(1,page_num+1):\n",
    "    url= \"https://www.flipkart.com/search?q=phones&otracker=search&otracker1=search&marketplace=FLIPKART&as-show=on&as=off&as-pos=1&as-type=HISTORY&page=\"+str(i)\n",
    "    page = requests.get(url)\n",
    "    soup = BeautifulSoup(page.content, 'html.parser')\n",
    "    title = soup.find_all('div', class_=\"_4rR01T\")\n",
    "    price = soup.find_all('div', class_=\"_30jeq3 _1_WHN1\")\n",
    "    for t in title:\n",
    "        title_list.append(t.text.replace('\\n', ''))\n",
    "\n",
    "    for p in price:\n",
    "        price_list.append(p.text.replace('\\n', ''))\n"
   ]
  },
  {
   "cell_type": "code",
   "execution_count": 4,
   "id": "a9c6656b",
   "metadata": {},
   "outputs": [
    {
     "data": {
      "text/plain": [
       "['SAMSUNG Galaxy F22 (Denim Black, 64 GB)',\n",
       " 'SAMSUNG Galaxy F22 (Denim Blue, 64 GB)',\n",
       " 'SAMSUNG Galaxy F22 (Denim Blue, 128 GB)',\n",
       " 'APPLE iPhone 11 (White, 128 GB)',\n",
       " 'realme C21Y (Cross Blue, 32 GB)']"
      ]
     },
     "execution_count": 4,
     "metadata": {},
     "output_type": "execute_result"
    }
   ],
   "source": [
    "title_list[:5]"
   ]
  },
  {
   "cell_type": "code",
   "execution_count": 5,
   "id": "52fc15c2",
   "metadata": {},
   "outputs": [
    {
     "data": {
      "text/plain": [
       "['₹10,499', '₹10,499', '₹12,499', '₹54,900', '₹9,499']"
      ]
     },
     "execution_count": 5,
     "metadata": {},
     "output_type": "execute_result"
    }
   ],
   "source": [
    "price_list[:5]"
   ]
  },
  {
   "cell_type": "code",
   "execution_count": 6,
   "id": "34f15ab2",
   "metadata": {},
   "outputs": [
    {
     "data": {
      "text/plain": [
       "120"
      ]
     },
     "execution_count": 6,
     "metadata": {},
     "output_type": "execute_result"
    }
   ],
   "source": [
    "len(title_list)"
   ]
  },
  {
   "cell_type": "code",
   "execution_count": 7,
   "id": "8ab429a8",
   "metadata": {},
   "outputs": [
    {
     "data": {
      "text/plain": [
       "120"
      ]
     },
     "execution_count": 7,
     "metadata": {},
     "output_type": "execute_result"
    }
   ],
   "source": [
    "len(price_list)"
   ]
  },
  {
   "cell_type": "code",
   "execution_count": 8,
   "id": "157ad2fd",
   "metadata": {},
   "outputs": [],
   "source": [
    "df = pd.DataFrame({\n",
    "    'title_list':title_list,\n",
    "    'price_list':price_list\n",
    "    },\n",
    "      columns=['title_list','price_list'])"
   ]
  },
  {
   "cell_type": "code",
   "execution_count": 9,
   "id": "24adaf3a",
   "metadata": {},
   "outputs": [
    {
     "data": {
      "text/html": [
       "<div>\n",
       "<style scoped>\n",
       "    .dataframe tbody tr th:only-of-type {\n",
       "        vertical-align: middle;\n",
       "    }\n",
       "\n",
       "    .dataframe tbody tr th {\n",
       "        vertical-align: top;\n",
       "    }\n",
       "\n",
       "    .dataframe thead th {\n",
       "        text-align: right;\n",
       "    }\n",
       "</style>\n",
       "<table border=\"1\" class=\"dataframe\">\n",
       "  <thead>\n",
       "    <tr style=\"text-align: right;\">\n",
       "      <th></th>\n",
       "      <th>title_list</th>\n",
       "      <th>price_list</th>\n",
       "    </tr>\n",
       "  </thead>\n",
       "  <tbody>\n",
       "    <tr>\n",
       "      <th>0</th>\n",
       "      <td>SAMSUNG Galaxy F22 (Denim Black, 64 GB)</td>\n",
       "      <td>₹10,499</td>\n",
       "    </tr>\n",
       "    <tr>\n",
       "      <th>1</th>\n",
       "      <td>SAMSUNG Galaxy F22 (Denim Blue, 64 GB)</td>\n",
       "      <td>₹10,499</td>\n",
       "    </tr>\n",
       "    <tr>\n",
       "      <th>2</th>\n",
       "      <td>SAMSUNG Galaxy F22 (Denim Blue, 128 GB)</td>\n",
       "      <td>₹12,499</td>\n",
       "    </tr>\n",
       "    <tr>\n",
       "      <th>3</th>\n",
       "      <td>APPLE iPhone 11 (White, 128 GB)</td>\n",
       "      <td>₹54,900</td>\n",
       "    </tr>\n",
       "    <tr>\n",
       "      <th>4</th>\n",
       "      <td>realme C21Y (Cross Blue, 32 GB)</td>\n",
       "      <td>₹9,499</td>\n",
       "    </tr>\n",
       "  </tbody>\n",
       "</table>\n",
       "</div>"
      ],
      "text/plain": [
       "                                title_list price_list\n",
       "0  SAMSUNG Galaxy F22 (Denim Black, 64 GB)    ₹10,499\n",
       "1   SAMSUNG Galaxy F22 (Denim Blue, 64 GB)    ₹10,499\n",
       "2  SAMSUNG Galaxy F22 (Denim Blue, 128 GB)    ₹12,499\n",
       "3          APPLE iPhone 11 (White, 128 GB)    ₹54,900\n",
       "4          realme C21Y (Cross Blue, 32 GB)     ₹9,499"
      ]
     },
     "execution_count": 9,
     "metadata": {},
     "output_type": "execute_result"
    }
   ],
   "source": [
    "df.head()"
   ]
  },
  {
   "cell_type": "code",
   "execution_count": 10,
   "id": "cb03a8f2",
   "metadata": {},
   "outputs": [
    {
     "data": {
      "text/plain": [
       "(120, 2)"
      ]
     },
     "execution_count": 10,
     "metadata": {},
     "output_type": "execute_result"
    }
   ],
   "source": [
    "df.shape"
   ]
  },
  {
   "cell_type": "code",
   "execution_count": 11,
   "id": "0a63c3c1",
   "metadata": {},
   "outputs": [],
   "source": [
    "df.to_csv(\"phones.csv\")"
   ]
  },
  {
   "cell_type": "markdown",
   "id": "b76ff742",
   "metadata": {},
   "source": [
    "### Important note\n",
    "note if nonetype error arises make sure the tag and class names are correct or not .\n",
    "To do that simple go through url press inspect and go through correcponding field and copy the class and tag."
   ]
  },
  {
   "cell_type": "markdown",
   "id": "5174ee29",
   "metadata": {},
   "source": [
    "# Thank You"
   ]
  }
 ],
 "metadata": {
  "kernelspec": {
   "display_name": "Python 3",
   "language": "python",
   "name": "python3"
  },
  "language_info": {
   "codemirror_mode": {
    "name": "ipython",
    "version": 3
   },
   "file_extension": ".py",
   "mimetype": "text/x-python",
   "name": "python",
   "nbconvert_exporter": "python",
   "pygments_lexer": "ipython3",
   "version": "3.8.8"
  }
 },
 "nbformat": 4,
 "nbformat_minor": 5
}
